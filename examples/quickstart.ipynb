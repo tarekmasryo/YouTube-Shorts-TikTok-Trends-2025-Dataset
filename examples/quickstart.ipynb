{
  "cells": [
    {
      "cell_type": "markdown",
      "metadata": {},
      "source": [
        "# Quick Analysis \u2014 YouTube Shorts & TikTok Trends (2025)\n",
        "\n",
        "This notebook shows a small example to load and explore the dataset."
      ]
    },
    {
      "cell_type": "code",
      "execution_count": 1,
      "metadata": {},
      "outputs": [],
      "source": [
        "import pandas as pd\n",
        "import matplotlib.pyplot as plt\n",
        "\n",
        "# Load main file (ensure you placed the CSV under data/)\n",
        "df = pd.read_csv('data/youtube_shorts_tiktok_trends_2025.csv')\n",
        "print('Shape:', df.shape)\n",
        "df.head()"
      ]
    },
    {
      "cell_type": "code",
      "execution_count": 2,
      "metadata": {},
      "outputs": [],
      "source": [
        "# Top 10 countries by number of videos\n",
        "top10 = df['country'].value_counts().head(10)\n",
        "top10.plot(kind='bar', figsize=(8,4))\n",
        "plt.title('Top 10 Countries by Number of Videos (2025)')\n",
        "plt.ylabel('Videos')\n",
        "plt.tight_layout()\n",
        "plt.show()"
      ]
    },
    {
      "cell_type": "code",
      "execution_count": 3,
      "metadata": {},
      "outputs": [],
      "source": [
        "# Compare average engagement rate across platforms\n",
        "avg_er = df.groupby('platform')['engagement_rate'].mean()\n",
        "avg_er.plot(kind='bar', color=['red','blue'], figsize=(6,4))\n",
        "plt.title('Average Engagement Rate by Platform (2025)')\n",
        "plt.ylabel('Engagement Rate')\n",
        "plt.tight_layout()\n",
        "plt.show()"
      ]
    },
    {
      "cell_type": "code",
      "execution_count": 4,
      "metadata": {},
      "outputs": [],
      "source": [
        "# Most common hashtags\n",
        "hashtags = df['hashtag'].value_counts().head(10)\n",
        "print('Top 10 Hashtags:\\n', hashtags)"
      ]
    }
  ],
  "metadata": {
    "kernelspec": {
      "display_name": "Python 3",
      "language": "python",
      "name": "python3"
    },
    "language_info": {
      "name": "python",
      "version": "3.x"
    }
  },
  "nbformat": 4,
  "nbformat_minor": 5
}